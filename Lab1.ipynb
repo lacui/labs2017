{
 "cell_type": "code",
 "execution_count": 7,
    "metadata": {},
    "outputs": [
     {
      "name": "stdout",
      "output_type": "stream",
      "text": [
       "Hello, world\n",
       "Hello, world\n",
       "Hello, world\n",
       "Hello, world\n",
       "Hello, world\n"
       "Hello, world\n"
       "Hello, world\n"
       "Hello, world\n"
       "Hello, world\n"
       "Hello, world\n"
      ]
     }
    ],
    "source": [
    "i = 1\n",
   "while i <= 10:\n",
    "    print(\"Hello, world\")\n",
   "    i += 1"
  ]
 },
