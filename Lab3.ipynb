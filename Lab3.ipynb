{
 "cells": [
  {
   "cell_type": "markdown",
   "metadata": {},
   "source": [
    "Задание 1- Сортировка пузырком\n"
   ]
  },
  {
   "cell_type": "code",
   "execution_count": 10,
   "metadata": {},
   "outputs": [
    {
     "name": "stdout",
     "output_type": "stream",
     "text": [
      "[1, 0, 9, -5, 3, 10, 23, 7, -10]\n",
      "[-10, -5, 0, 1, 3, 7, 9, 10, 23]\n"
     ]
    }
   ],
   "source": [
    "a=[1,0,9,-5,3,10,23,7,-10]\n",
    "print (a)\n",
    "\n",
    "j=1\n",
    "while j < len(a):\n",
    "    k=0\n",
    "    while k < (len(a) - 1) :\n",
    "        if a[k] > a[k+1]:\n",
    "            a[k], a[k+1] = a[k+1], a[k]\n",
    "        k += 1\n",
    "    j += 1    \n",
    "    \n",
    "\n",
    "print (a)"
   ]
  },
  {
   "cell_type": "markdown",
   "metadata": {},
   "source": [
    "Задание 2- Сортировка выбором"
   ]
  },
  {
   "cell_type": "code",
   "execution_count": 22,
   "metadata": {},
   "outputs": [
    {
     "name": "stdout",
     "output_type": "stream",
     "text": [
      "[-77, 45, -17, 10, 7, 99]\n",
      "[-77, -17, 45, 7, 10, 99]\n"
     ]
    }
   ],
   "source": [
    "a = [-77,45,-17,10,7,99]\n",
    "print (a)\n",
    "minimum = a[0]\n",
    "index_of_min = 0\n",
    " \n",
    "for i in range(len(a)-1):\n",
    "    for j in range(i+1, len(a)):\n",
    "        if a[j] < minimum:\n",
    "            minimum = a[j]\n",
    "            index_of_min = j    \n",
    "    minimum = a[i+1]\n",
    "    a[i],a[index_of_min] = a[index_of_min],a[i]\n",
    "    \n",
    "print(a)"
   ]
  },
  {
   "cell_type": "markdown",
   "metadata": {},
   "source": [
    "Задание 3- Быстрая сортировка"
   ]
  },
  {
   "cell_type": "code",
   "execution_count": 23,
   "metadata": {},
   "outputs": [
    {
     "name": "stdout",
     "output_type": "stream",
     "text": [
      "[-10, 22, 92, 17, -70, 35, 40, 50, -19]\n",
      "[-70, -19, -10, 17, 22, 35, 40, 50, 92]\n"
     ]
    }
   ],
   "source": [
    "def quickSort(alist):\n",
    "   quickSortHelper(alist,0,len(alist)-1)\n",
    "alist = [-10,22,92,17,-70,35,40,50,-19]\n",
    "print(alist)\n",
    "def quickSortHelper(alist,first,last):\n",
    "   if first<last:\n",
    "\n",
    "       splitpoint = partition(alist,first,last)\n",
    "\n",
    "       quickSortHelper(alist,first,splitpoint-1)\n",
    "       quickSortHelper(alist,splitpoint+1,last)\n",
    "\n",
    "\n",
    "def partition(alist,first,last):\n",
    "   pivotvalue = alist[first]\n",
    "\n",
    "   leftmark = first+1\n",
    "   rightmark = last\n",
    "\n",
    "   done = False\n",
    "   while not done:\n",
    "\n",
    "       while leftmark <= rightmark and \\\n",
    "               alist[leftmark] <= pivotvalue:\n",
    "           leftmark = leftmark + 1\n",
    "\n",
    "       while alist[rightmark] >= pivotvalue and \\\n",
    "               rightmark >= leftmark:\n",
    "           rightmark = rightmark -1\n",
    "\n",
    "       if rightmark < leftmark:\n",
    "           done = True\n",
    "       else:\n",
    "           temp = alist[leftmark]\n",
    "           alist[leftmark] = alist[rightmark]\n",
    "           alist[rightmark] = temp\n",
    "\n",
    "   temp = alist[first]\n",
    "   alist[first] = alist[rightmark]\n",
    "   alist[rightmark] = temp\n",
    "\n",
    "\n",
    "   return rightmark\n",
    "\n",
    "alist = [-10,22,92,17,-70,35,40,50,-19]\n",
    "quickSort(alist)\n",
    "print(alist)"
   ]
  },
  {
   "cell_type": "markdown",
   "metadata": {},
   "source": []
  },
  {
   "cell_type": "code",
   "execution_count": null,
   "metadata": {},
   "outputs": [],
   "source": []
  }
 ],
 "metadata": {
  "kernelspec": {
   "display_name": "Python 3",
   "language": "python",
   "name": "python3"
  },
  "language_info": {
   "codemirror_mode": {
    "name": "ipython",
    "version": 3
   },
   "file_extension": ".py",
   "mimetype": "text/x-python",
   "name": "python",
   "nbconvert_exporter": "python",
   "pygments_lexer": "ipython3",
   "version": "3.6.2"
  }
 },
 "nbformat": 4,
 "nbformat_minor": 2
}
